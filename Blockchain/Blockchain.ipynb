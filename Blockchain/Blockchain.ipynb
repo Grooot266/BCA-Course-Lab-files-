{
 "cells": [
  {
   "cell_type": "code",
   "execution_count": 1,
   "metadata": {},
   "outputs": [
    {
     "name": "stdout",
     "output_type": "stream",
     "text": [
      "{'Arham': 'Blue', 'Lisa': 'Yellow', 'Vinod': 'Purple', 'Jenny': 'Pink'}\n",
      "dict_keys(['Arham', 'Lisa', 'Vinod', 'Jenny'])\n",
      "no of student :-  4\n",
      "{'Arham': 'Blue', 'Lisa': 'Black', 'Vinod': 'Purple', 'Jenny': 'Pink'}\n",
      "{'Arham': 'Blue', 'Lisa': 'Black', 'Vinod': 'Purple'}\n",
      "Arham Blue\n",
      "Lisa Black\n",
      "Vinod Purple\n"
     ]
    }
   ],
   "source": [
    "people = {'Arham': 'Blue','Lisa': 'Yellow','Vinod': 'Purple','Jenny': 'Pink'}\n",
    "print(people)\n",
    "print(people.keys())\n",
    "print(\"no of student :- \" ,len(people))\n",
    "people[\"Lisa\"] ='Black'\n",
    "print(people)\n",
    "people.pop('Jenny')\n",
    "print(people)\n",
    "\n",
    "for key, value in sorted(people.items()): \n",
    "    print(key,value) "
   ]
  },
  {
   "cell_type": "code",
   "execution_count": 1,
   "metadata": {},
   "outputs": [
    {
     "name": "stdout",
     "output_type": "stream",
     "text": [
      "sender: 30819f300d06092a864886f70d010101050003818d0030818902818100d58a8d2a86cc6331242b7c2cfd8df9bbe6b22230e7f1860600badf92ff2c8ad130f378c7225a3327bf8fb05a683d80f4da411b810857dd094abfd20e269410c02edbf8c143d863266d23bb8177c5f1d2078ce7017022db62a05b7becd8866f7b0986d7c6848fa9b71a38e852ed8f5c823f8c9d9100ea1f717dba49f5899c5c170203010001\n",
      "-----\n",
      "recipient: 30819f300d06092a864886f70d010101050003818d0030818902818100bfd0f7d0c29657887fec5d7776996ea5a47f0ae9b3b3c023ae9bfb104793f975482eeff84c198611f34a7a6659f00829776dbe19e7ebb9d630d47e0305125edc743c3dfb29fa6dfb8a692e5aba191c5570b5767bddf9b6a1ea672a81811d905362d87bca417be81403e7044cbcba850635a6eb91507327b9b82f1b8ea8815fe90203010001\n",
      "-----\n",
      "value: 100\n",
      "-----\n",
      "time: 2021-12-07 19:24:31.693457\n",
      "-----\n"
     ]
    }
   ],
   "source": [
    "import string\n",
    "import binascii\n",
    "\n",
    "import Cryptodome\n",
    "import Cryptodome.Hash \n",
    "import datetime\n",
    "import collections\n",
    "import Cryptodome.Random\n",
    "from Cryptodome.Hash import SHA\n",
    "from Cryptodome.PublicKey import RSA\n",
    "from Cryptodome.Signature import PKCS1_v1_5\n",
    "\n",
    "class Client:\n",
    "    def __init__(clie):\n",
    "        random = Cryptodome.Random.new().read\n",
    "        clie._private_key = RSA.generate(1024, random)\n",
    "        clie._public_key = clie._private_key.publickey()\n",
    "        clie._signer = PKCS1_v1_5.new(clie._private_key)\n",
    "        \n",
    "    @property\n",
    "    def identity(clie):\n",
    "        return binascii.hexlify(clie._public_key.exportKey(format='DER')).decode('ascii')\n",
    "\n",
    "\n",
    "\n",
    "class Transaction:\n",
    "    def __init__(trans, sender, recipient, value):\n",
    "        transactions = []\n",
    "        trans.sender = sender\n",
    "        \n",
    "        trans.recipient = recipient\n",
    "        \n",
    "        trans.value = value\n",
    "        trans.time = datetime.datetime.now()\n",
    "        trans.transactions = []\n",
    "\n",
    "    def to_dict(self):\n",
    "        if self.sender == \"Genesis\":\n",
    "            identity = \"Genesis\"\n",
    "        else:\n",
    "            identity = self.sender.identity\n",
    "        return collections.OrderedDict({\n",
    "            'sender':identity,\n",
    "            'recipient':self.recipient.identity,\n",
    "            'value':self.value,\n",
    "            'time' : self.time\n",
    "             })\n",
    "    def sign_transaction(s_trans):\n",
    "        private_key = s_trans.sender._private_key\n",
    "        signer = PKCS1_v1_5.new(private_key)\n",
    "        h=SHA.new(str(s_trans.to_dict()).encode('utf8'))\n",
    "        s=binascii.hexlify(signer.sign(h)).decode('ascii')\n",
    "        s_trans.transactions.append(s_trans.to_dict())\n",
    "        return s\n",
    "\n",
    "    def display_transaction(transaction):\n",
    "        dict=transaction.to_dict()\n",
    "        print(\"sender: \" + str(dict['sender']))\n",
    "        print('-----')\n",
    "        print(\"recipient: \" + str(dict['recipient']))\n",
    "        print('-----')\n",
    "        print(\"value: \" + str(dict['value']))\n",
    "        print('-----')\n",
    "        print(\"time: \" + str(dict['time']))\n",
    "        print('-----')\n",
    "\n",
    "Prathmesh=Client()\n",
    "Groot=Client()\n",
    "t0=Transaction(Prathmesh,Groot,100)\n",
    "t0.sign_transaction()\n",
    "t0.display_transaction()"
   ]
  },
  {
   "cell_type": "code",
   "execution_count": 6,
   "metadata": {},
   "outputs": [
    {
     "name": "stdout",
     "output_type": "stream",
     "text": [
      "Collecting pycryptodome\n",
      "  Downloading pycryptodome-3.10.1-cp35-abi3-win_amd64.whl (1.6 MB)\n",
      "Installing collected packages: pycryptodome\n",
      "Successfully installed pycryptodome-3.10.1\n",
      "Note: you may need to restart the kernel to use updated packages.\n"
     ]
    }
   ],
   "source": [
    "pip install pycryptodome"
   ]
  },
  {
   "cell_type": "code",
   "execution_count": 2,
   "metadata": {},
   "outputs": [
    {
     "name": "stdout",
     "output_type": "stream",
     "text": [
      "Collecting Crypto\n",
      "  Downloading crypto-1.4.1-py2.py3-none-any.whl (18 kB)\n",
      "Collecting Naked\n",
      "  Downloading Naked-0.1.31-py2.py3-none-any.whl (590 kB)\n",
      "Collecting shellescape\n",
      "  Downloading shellescape-3.8.1-py2.py3-none-any.whl (3.1 kB)\n",
      "Requirement already satisfied: requests in c:\\users\\kuldeep\\anaconda3\\lib\\site-packages (from Naked->Crypto) (2.25.1)\n",
      "Requirement already satisfied: pyyaml in c:\\users\\kuldeep\\anaconda3\\lib\\site-packages (from Naked->Crypto) (5.4.1)\n",
      "Requirement already satisfied: chardet<5,>=3.0.2 in c:\\users\\kuldeep\\anaconda3\\lib\\site-packages (from requests->Naked->Crypto) (4.0.0)\n",
      "Requirement already satisfied: certifi>=2017.4.17 in c:\\users\\kuldeep\\anaconda3\\lib\\site-packages (from requests->Naked->Crypto) (2020.12.5)\n",
      "Requirement already satisfied: urllib3<1.27,>=1.21.1 in c:\\users\\kuldeep\\anaconda3\\lib\\site-packages (from requests->Naked->Crypto) (1.26.4)\n",
      "Requirement already satisfied: idna<3,>=2.5 in c:\\users\\kuldeep\\anaconda3\\lib\\site-packages (from requests->Naked->Crypto) (2.10)\n",
      "Installing collected packages: shellescape, Naked, Crypto\n",
      "Successfully installed Crypto-1.4.1 Naked-0.1.31 shellescape-3.8.1\n",
      "Note: you may need to restart the kernel to use updated packages.\n"
     ]
    }
   ],
   "source": [
    "pip install Crypto"
   ]
  },
  {
   "cell_type": "code",
   "execution_count": 2,
   "metadata": {},
   "outputs": [
    {
     "name": "stdout",
     "output_type": "stream",
     "text": [
      "Note: you may need to restart the kernel to use updated packages.\n"
     ]
    },
    {
     "name": "stderr",
     "output_type": "stream",
     "text": [
      "ERROR: Could not find a version that satisfies the requirement PKCS1_v1_5\n",
      "ERROR: No matching distribution found for PKCS1_v1_5\n"
     ]
    }
   ],
   "source": []
  },
  {
   "cell_type": "code",
   "execution_count": 3,
   "metadata": {},
   "outputs": [
    {
     "name": "stdout",
     "output_type": "stream",
     "text": [
      "Collecting pycryptodomex\n",
      "  Downloading pycryptodomex-3.10.1-cp35-abi3-win_amd64.whl (1.6 MB)\n",
      "Installing collected packages: pycryptodomex\n",
      "Successfully installed pycryptodomex-3.10.1\n",
      "Note: you may need to restart the kernel to use updated packages.\n"
     ]
    }
   ],
   "source": [
    "pip install pycryptodomex"
   ]
  },
  {
   "cell_type": "code",
   "execution_count": 1,
   "metadata": {},
   "outputs": [
    {
     "name": "stdout",
     "output_type": "stream",
     "text": [
      "Requirement already satisfied: PyCryptodome in c:\\users\\prathmesha\\anaconda3\\lib\\site-packages (3.10.1)\n"
     ]
    }
   ],
   "source": [
    "!pip install PyCryptodome"
   ]
  },
  {
   "cell_type": "code",
   "execution_count": null,
   "metadata": {},
   "outputs": [],
   "source": []
  }
 ],
 "metadata": {
  "kernelspec": {
   "display_name": "Python 3",
   "language": "python",
   "name": "python3"
  },
  "language_info": {
   "codemirror_mode": {
    "name": "ipython",
    "version": 3
   },
   "file_extension": ".py",
   "mimetype": "text/x-python",
   "name": "python",
   "nbconvert_exporter": "python",
   "pygments_lexer": "ipython3",
   "version": "3.8.8"
  }
 },
 "nbformat": 4,
 "nbformat_minor": 4
}
