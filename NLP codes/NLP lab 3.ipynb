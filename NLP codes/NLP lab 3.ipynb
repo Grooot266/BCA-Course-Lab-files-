{
 "cells": [
  {
   "cell_type": "code",
   "execution_count": 1,
   "id": "6a67105c",
   "metadata": {},
   "outputs": [],
   "source": [
    "from nltk.corpus import wordnet\n"
   ]
  },
  {
   "cell_type": "code",
   "execution_count": 3,
   "id": "6a980202",
   "metadata": {},
   "outputs": [
    {
     "name": "stdout",
     "output_type": "stream",
     "text": [
      "Synset('happy.a.01')\n",
      "Synset('felicitous.s.02')\n",
      "Synset('glad.s.02')\n",
      "Synset('happy.s.04')\n"
     ]
    }
   ],
   "source": [
    "for words in wordnet.synsets(\"happy\"):\n",
    "    print(words)\n",
    "    "
   ]
  },
  {
   "cell_type": "code",
   "execution_count": 10,
   "id": "dbdf8134",
   "metadata": {},
   "outputs": [
    {
     "name": "stdout",
     "output_type": "stream",
     "text": [
      "0.10526315789473684\n"
     ]
    }
   ],
   "source": [
    "word1= wordnet.synsets(\"fun\",\"n\")[0]\n",
    "word2= wordnet.synsets(\"boat\",\"n\")[0]\n",
    "print(word1.wup_similarity(word2))\n"
   ]
  },
  {
   "cell_type": "code",
   "execution_count": 13,
   "id": "93d4e34b",
   "metadata": {},
   "outputs": [
    {
     "name": "stdout",
     "output_type": "stream",
     "text": [
      "Synset name sport.n.01\n",
      "\n",
      " Synset definition: an active diversion requiring physical exertion and competition\n",
      "\n",
      "Synset example []\n"
     ]
    }
   ],
   "source": [
    "syn =wordnet.synsets('sport')[0]\n",
    "print (\"Synset name\", syn.name())\n",
    "print(\"\\n Synset definition:\",syn.definition())\n",
    "print(\"\\nSynset example\", syn.examples())"
   ]
  },
  {
   "cell_type": "code",
   "execution_count": 18,
   "id": "d502be96",
   "metadata": {},
   "outputs": [
    {
     "name": "stdout",
     "output_type": "stream",
     "text": [
      "study\n",
      "leaf\n",
      "stress\n",
      "play\n",
      "increase\n",
      "happiness\n"
     ]
    }
   ],
   "source": [
    "from nltk import WordNetLemmatizer\n",
    "lemma=WordNetLemmatizer()\n",
    "word_list= [\"studies\",\"leaves\",\"stress\",\"plays\",\"increases\",\"happiness\"]\n",
    "for w in word_list:\n",
    "    print(lemma.lemmatize(w))"
   ]
  },
  {
   "cell_type": "code",
   "execution_count": null,
   "id": "ac7e0bd7",
   "metadata": {},
   "outputs": [],
   "source": []
  }
 ],
 "metadata": {
  "kernelspec": {
   "display_name": "Python 3",
   "language": "python",
   "name": "python3"
  },
  "language_info": {
   "codemirror_mode": {
    "name": "ipython",
    "version": 3
   },
   "file_extension": ".py",
   "mimetype": "text/x-python",
   "name": "python",
   "nbconvert_exporter": "python",
   "pygments_lexer": "ipython3",
   "version": "3.8.8"
  }
 },
 "nbformat": 4,
 "nbformat_minor": 5
}
