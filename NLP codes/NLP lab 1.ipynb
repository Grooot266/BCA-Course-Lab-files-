{
 "cells": [
  {
   "cell_type": "code",
   "execution_count": 1,
   "id": "64587891",
   "metadata": {},
   "outputs": [],
   "source": [
    "#28-7-2021\n",
    "import re\n"
   ]
  },
  {
   "cell_type": "code",
   "execution_count": 7,
   "id": "a9cd054f",
   "metadata": {},
   "outputs": [
    {
     "name": "stdout",
     "output_type": "stream",
     "text": [
      "Groot\n"
     ]
    }
   ],
   "source": [
    "#Match function\n",
    "string=\"Groot and Groot is a cutest character in marvel.\"\n",
    "pattern=\"Groot\"\n",
    "result=re.match(pattern,string).group(0)\n",
    "print(result)\n"
   ]
  },
  {
   "cell_type": "code",
   "execution_count": 9,
   "id": "cbd1186d",
   "metadata": {},
   "outputs": [
    {
     "name": "stdout",
     "output_type": "stream",
     "text": [
      "Groot\n"
     ]
    }
   ],
   "source": [
    "#Search Function\n",
    "string=\"The cutest character in marvel is Groot.\"\n",
    "pattern=\"Groot\"\n",
    "result=re.search(pattern,string).group(0)\n",
    "print(result)"
   ]
  },
  {
   "cell_type": "code",
   "execution_count": 10,
   "id": "905146c6",
   "metadata": {},
   "outputs": [
    {
     "name": "stdout",
     "output_type": "stream",
     "text": [
      "['Groot', 'Groot']\n"
     ]
    }
   ],
   "source": [
    "#Findall() function\n",
    "string=\"Baby Groot and the cutest character in marvel is Groot.\"\n",
    "pattern=\"Groot\"\n",
    "result=re.findall(pattern,string)\n",
    "print(result)\n"
   ]
  },
  {
   "cell_type": "code",
   "execution_count": 11,
   "id": "05f1f0a7",
   "metadata": {},
   "outputs": [
    {
     "name": "stdout",
     "output_type": "stream",
     "text": [
      "19\n"
     ]
    }
   ],
   "source": [
    "#finditer() function\n",
    "string=\"Baby Groot and the cutest character in marvel is Groot.\"\n",
    "pattern=\"cutest\"\n",
    "result=re.finditer(pattern,string)\n",
    "for r in result:\n",
    "    print(r.start())\n"
   ]
  },
  {
   "cell_type": "code",
   "execution_count": 15,
   "id": "cd89a964",
   "metadata": {},
   "outputs": [
    {
     "name": "stdout",
     "output_type": "stream",
     "text": [
      "Baby Groot is the cutest character in marvel.\n"
     ]
    }
   ],
   "source": [
    "#Sub () function\n",
    "\n",
    "string=\"Groot is the cutest character in marvel.\"\n",
    "pattern=\"Groot\"\n",
    "replacement=\"Baby Groot\"\n",
    "result=re.sub(pattern,replacement,string)\n",
    "print(result)"
   ]
  },
  {
   "cell_type": "code",
   "execution_count": 33,
   "id": "734d14f6",
   "metadata": {},
   "outputs": [
    {
     "name": "stdout",
     "output_type": "stream",
     "text": [
      "[]\n",
      "Groot is the cutest character in marvel 26-04-2017.\n"
     ]
    }
   ],
   "source": [
    "#Find date\n",
    "string=\"Groot is the cutest character in marvel 26-04-2017.\"\n",
    "pattern=\"\\d{2}-d{2}-\\d{4}\"\n",
    "result=re.findall(pattern,string)\n",
    "print(result)\n",
    "result=re.sub(pattern,'Monday',string)\n",
    "print(result)\n"
   ]
  },
  {
   "cell_type": "code",
   "execution_count": 19,
   "id": "4890de27",
   "metadata": {},
   "outputs": [
    {
     "data": {
      "text/plain": [
       "[' ',\n",
       " 'I',\n",
       " 'P',\n",
       " 'T',\n",
       " 'a',\n",
       " 'b',\n",
       " 'c',\n",
       " 'd',\n",
       " 'e',\n",
       " 'f',\n",
       " 'h',\n",
       " 'i',\n",
       " 'k',\n",
       " 'l',\n",
       " 'n',\n",
       " 'o',\n",
       " 'r',\n",
       " 's',\n",
       " 't']"
      ]
     },
     "execution_count": 19,
     "metadata": {},
     "output_type": "execute_result"
    }
   ],
   "source": [
    "string1=\"The national bird of India is Peacock\"\n",
    "sorted(set(string1))\n"
   ]
  },
  {
   "cell_type": "code",
   "execution_count": 22,
   "id": "ed44d729",
   "metadata": {
    "scrolled": true
   },
   "outputs": [
    {
     "name": "stdout",
     "output_type": "stream",
     "text": [
      "Requirement already satisfied: nltk in c:\\users\\prathmesha\\anaconda3\\lib\\site-packages (3.6.1)\n",
      "Requirement already satisfied: click in c:\\users\\prathmesha\\anaconda3\\lib\\site-packages (from nltk) (7.1.2)\n",
      "Requirement already satisfied: regex in c:\\users\\prathmesha\\anaconda3\\lib\\site-packages (from nltk) (2021.4.4)\n",
      "Requirement already satisfied: joblib in c:\\users\\prathmesha\\anaconda3\\lib\\site-packages (from nltk) (1.0.1)\n",
      "Requirement already satisfied: tqdm in c:\\users\\prathmesha\\anaconda3\\lib\\site-packages (from nltk) (4.59.0)\n",
      "Note: you may need to restart the kernel to use updated packages.\n"
     ]
    }
   ],
   "source": [
    "pip install nltk\n"
   ]
  },
  {
   "cell_type": "code",
   "execution_count": 23,
   "id": "8722c3ec",
   "metadata": {},
   "outputs": [],
   "source": [
    "import nltk"
   ]
  },
  {
   "cell_type": "code",
   "execution_count": 26,
   "id": "f538fa66",
   "metadata": {},
   "outputs": [
    {
     "name": "stdout",
     "output_type": "stream",
     "text": [
      "program  :  program\n",
      "programmers  :  programm\n",
      "debugger  :  debugg\n",
      "console  :  consol\n",
      "running  :  run\n",
      "code  :  code\n",
      "compile  :  compil\n",
      "successfully  :  success\n"
     ]
    }
   ],
   "source": [
    "#Stemming\n",
    "from nltk.stem import PorterStemmer\n",
    "ps = PorterStemmer()\n",
    "words = [\"program\",\"programmers\",\"debugger\",\"console\",\"running\",\"code\",\"compile\",\"successfully\"]\n",
    "for w in words:\n",
    "    print(w,\" : \",ps.stem(w))\n",
    "    "
   ]
  },
  {
   "cell_type": "code",
   "execution_count": 6,
   "id": "40c230db",
   "metadata": {},
   "outputs": [
    {
     "name": "stdout",
     "output_type": "stream",
     "text": [
      "['I', 'like', 'to', 'play', 'Battelgrounds', 'Mobile', 'India', 'also', 'I', 'like', 'to', 'play', 'Valorant', ',', 'CSGO', ',', 'Rocket', 'League', 'etc', '.']\n",
      "['I like to play Battelgrounds Mobile India also I like to play Valorant, CSGO, Rocket League etc.']\n"
     ]
    }
   ],
   "source": [
    "from nltk.tokenize import sent_tokenize,word_tokenize\n",
    "sentence=\"I like to play Battelgrounds Mobile India also I like to play Valorant, CSGO, Rocket League etc.\"\n",
    "print(word_tokenize(sentence))\n",
    "print(sent_tokenize(sentence))"
   ]
  },
  {
   "cell_type": "code",
   "execution_count": 3,
   "id": "4fdbc14b",
   "metadata": {},
   "outputs": [
    {
     "name": "stderr",
     "output_type": "stream",
     "text": [
      "[nltk_data] Downloading package punkt to\n",
      "[nltk_data]     C:\\Users\\prathmesha\\AppData\\Roaming\\nltk_data...\n",
      "[nltk_data]   Package punkt is already up-to-date!\n"
     ]
    },
    {
     "data": {
      "text/plain": [
       "True"
      ]
     },
     "execution_count": 3,
     "metadata": {},
     "output_type": "execute_result"
    }
   ],
   "source": [
    "import nltk\n",
    "nltk.download('punkt')"
   ]
  },
  {
   "cell_type": "code",
   "execution_count": 4,
   "id": "5c3ecd1d",
   "metadata": {},
   "outputs": [
    {
     "name": "stdout",
     "output_type": "stream",
     "text": [
      "Porter Stemmer\n",
      "good better best\n",
      "runner\n",
      "the rac\n",
      "run\n",
      "Lancaster Stemmer\n",
      "cat\n",
      "dog\n",
      "bird\n"
     ]
    }
   ],
   "source": [
    "from nltk.stem import PorterStemmer\n",
    "from nltk.stem import LancasterStemmer\n",
    "porter = PorterStemmer()\n",
    "lancaster = LancasterStemmer()\n",
    "print(\"Porter Stemmer\")\n",
    "print(porter.stem(\"Good Better Best\"))\n",
    "print(porter.stem(\"Runner\"))\n",
    "print(porter.stem(\"the race\"))\n",
    "print(porter.stem(\"running\"))                  \n",
    "print(\"Lancaster Stemmer\")\n",
    "print(lancaster.stem(\"Cats\"))\n",
    "print(lancaster.stem(\"dogs\"))\n",
    "print(lancaster.stem(\"birds\"))\n"
   ]
  },
  {
   "cell_type": "code",
   "execution_count": 7,
   "id": "8f67259b",
   "metadata": {},
   "outputs": [
    {
     "name": "stdout",
     "output_type": "stream",
     "text": [
      "Backgammon is one of oldest known board games.\n",
      "\n",
      "Its history can be traced back to the nearly 5,000 years to archeological discoveries in the Middle East.\n",
      "\n",
      "It is a two player game where each player has fifteen checkers which move between twenty-four points according to the roll of two dice\n",
      "\n"
     ]
    }
   ],
   "source": [
    "text = \"Backgammon is one of oldest known board games. Its history can be traced back to the nearly 5,000 years to archeological discoveries in the Middle East. It is a two player game where each player has fifteen checkers which move between twenty-four points according to the roll of two dice\"  \n",
    "sentences=sent_tokenize(text)\n",
    "for sentence in sentences:\n",
    "    print(sentence)\n",
    "    print()\n",
    "    "
   ]
  },
  {
   "cell_type": "code",
   "execution_count": 8,
   "id": "5fc40d1a",
   "metadata": {},
   "outputs": [
    {
     "name": "stdout",
     "output_type": "stream",
     "text": [
      "Backgammon\n",
      "\n",
      "is\n",
      "\n",
      "one\n",
      "\n",
      "of\n",
      "\n",
      "oldest\n",
      "\n",
      "known\n",
      "\n",
      "board\n",
      "\n",
      "games\n",
      "\n",
      ".\n",
      "\n",
      "Its\n",
      "\n",
      "history\n",
      "\n",
      "can\n",
      "\n",
      "be\n",
      "\n",
      "traced\n",
      "\n",
      "back\n",
      "\n",
      "to\n",
      "\n",
      "the\n",
      "\n",
      "nearly\n",
      "\n",
      "5,000\n",
      "\n",
      "years\n",
      "\n",
      "to\n",
      "\n",
      "archeological\n",
      "\n",
      "discoveries\n",
      "\n",
      "in\n",
      "\n",
      "the\n",
      "\n",
      "Middle\n",
      "\n",
      "East\n",
      "\n",
      ".\n",
      "\n",
      "It\n",
      "\n",
      "is\n",
      "\n",
      "a\n",
      "\n",
      "two\n",
      "\n",
      "player\n",
      "\n",
      "game\n",
      "\n",
      "where\n",
      "\n",
      "each\n",
      "\n",
      "player\n",
      "\n",
      "has\n",
      "\n",
      "fifteen\n",
      "\n",
      "checkers\n",
      "\n",
      "which\n",
      "\n",
      "move\n",
      "\n",
      "between\n",
      "\n",
      "twenty-four\n",
      "\n",
      "points\n",
      "\n",
      "according\n",
      "\n",
      "to\n",
      "\n",
      "the\n",
      "\n",
      "roll\n",
      "\n",
      "of\n",
      "\n",
      "two\n",
      "\n",
      "dice\n",
      "\n"
     ]
    }
   ],
   "source": [
    "text = \"Backgammon is one of oldest known board games. Its history can be traced back to the nearly 5,000 years to archeological discoveries in the Middle East. It is a two player game where each player has fifteen checkers which move between twenty-four points according to the roll of two dice\"  \n",
    "sentences=word_tokenize(text)\n",
    "for sentence in sentences:\n",
    "    print(sentence)\n",
    "    print()\n",
    "    "
   ]
  },
  {
   "cell_type": "code",
   "execution_count": 11,
   "id": "5b7ed894",
   "metadata": {},
   "outputs": [
    {
     "name": "stdout",
     "output_type": "stream",
     "text": [
      "dice \n"
     ]
    }
   ],
   "source": [
    "from nltk.tokenize import sent_tokenize , word_tokenize \n",
    "def stemSentence(sentence):\n",
    "    token_word=word_tokenize(sentence)\n",
    "    stem_sentence=[]\n",
    "    for word in token_word:\n",
    "        stem_sentence.append(porter.stem(word))\n",
    "        stem_sentence.append(\" \")\n",
    "        return \"\".join(stem_sentence)\n",
    "x=stemSentence(sentence)\n",
    "print(x)\n"
   ]
  },
  {
   "cell_type": "code",
   "execution_count": null,
   "id": "25a180e8",
   "metadata": {},
   "outputs": [],
   "source": []
  }
 ],
 "metadata": {
  "kernelspec": {
   "display_name": "Python 3",
   "language": "python",
   "name": "python3"
  },
  "language_info": {
   "codemirror_mode": {
    "name": "ipython",
    "version": 3
   },
   "file_extension": ".py",
   "mimetype": "text/x-python",
   "name": "python",
   "nbconvert_exporter": "python",
   "pygments_lexer": "ipython3",
   "version": "3.8.8"
  }
 },
 "nbformat": 4,
 "nbformat_minor": 5
}
