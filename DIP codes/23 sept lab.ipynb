{
 "cells": [
  {
   "cell_type": "code",
   "execution_count": 3,
   "id": "dd91168a",
   "metadata": {},
   "outputs": [
    {
     "name": "stdout",
     "output_type": "stream",
     "text": [
      "[[0 0 0 ... 0 0 0]\n",
      " [0 0 0 ... 0 0 0]\n",
      " [0 0 0 ... 0 0 0]\n",
      " ...\n",
      " [0 0 0 ... 0 0 0]\n",
      " [0 0 0 ... 0 0 0]\n",
      " [0 0 0 ... 0 0 0]]\n",
      "(208, 511)\n",
      "73 no.of times 458\n",
      "117 no.of times 141\n",
      "162 no.of times 249\n",
      "Largest value is :- 458\n"
     ]
    }
   ],
   "source": [
    "\n",
    "import numpy as np\n",
    "import cv2 as cv\n",
    "img =cv.imread(\"D:\\IMG processing lab\\MicrosoftTeams-image (2).png\",0)\n",
    "sobely = cv.Sobel(img,-1,0,1,ksize=3)\n",
    "cv.imwrite('D:\\IMG processing lab\\MicrosoftTeams-image (2).png',sobely)\n",
    "print(sobely)\n",
    "print(sobely.shape)\n",
    "c=0\n",
    "ar=[]\n",
    "ar2=[]\n",
    "list=[]\n",
    "for row in range(0,sobely.shape[0]):\n",
    "    for column in range(0,sobely.shape[1]):\n",
    "        if sobely[row][column]==255:\n",
    "            c=c+1\n",
    "            ar.append(row)\n",
    "            if ar2.count(row) < 1:\n",
    "                ar2.append(row)\n",
    "for i in ar2:\n",
    "    c=ar.count(i)\n",
    "    print(str(i)+\" no.of times \"+str(c))\n",
    "    list.append(c)\n",
    "m=max(list)\n",
    "print(\"Largest value is :-\",max(list))"
   ]
  },
  {
   "cell_type": "code",
   "execution_count": null,
   "id": "46e8b2a0",
   "metadata": {},
   "outputs": [],
   "source": []
  }
 ],
 "metadata": {
  "kernelspec": {
   "display_name": "Python 3",
   "language": "python",
   "name": "python3"
  },
  "language_info": {
   "codemirror_mode": {
    "name": "ipython",
    "version": 3
   },
   "file_extension": ".py",
   "mimetype": "text/x-python",
   "name": "python",
   "nbconvert_exporter": "python",
   "pygments_lexer": "ipython3",
   "version": "3.8.8"
  }
 },
 "nbformat": 4,
 "nbformat_minor": 5
}
