{
 "cells": [
  {
   "cell_type": "code",
   "execution_count": null,
   "id": "695952a2",
   "metadata": {},
   "outputs": [],
   "source": [
    "import cv2 as cv\n",
    "import os\n",
    "\n",
    "c=0\n",
    "\n",
    "cam=cv.VideoCapture(\"D:/IMG processing lab/Example.mp4\")\n",
    "\n",
    "x=0\n",
    "\n",
    "while True:\n",
    "\n",
    "    x+=1\n",
    "\n",
    "    c+=5000\n",
    "\n",
    "    cam.set(cv.CAP_PROP_POS_MSEC,c)\n",
    "\n",
    "ret,frame= cam.read()\n",
    "\n",
    "cv.imwrite(\"D:/IMG processing lab/Output/Desktop/img\"+str(x)+\".jpg\",frame)\n",
    "\n",
    "cv.destroyAllWindows()"
   ]
  },
  {
   "cell_type": "code",
   "execution_count": null,
   "id": "592d786e",
   "metadata": {},
   "outputs": [],
   "source": [
    "import os\n",
    "import cv2\n",
    "c=0\n",
    "cam=cv2.VideoCapture(\"D:/IMG processing lab/Example.mp4\")\n",
    "x=0\n",
    "while x<5:\n",
    "    x+=1\n",
    "    c+=5000\n",
    "    cam.set(cv2.CAP_PROP_POS_MSEC,c)\n",
    "ret,frame= cam.read()\n",
    "cv2.imwrite(\"D:/IMG processing lab/Output\"+str(x)+\".jpg\",frame)\n",
    "cv2.destroyAllWindows()"
   ]
  },
  {
   "cell_type": "code",
   "execution_count": null,
   "id": "a4f0408f",
   "metadata": {},
   "outputs": [],
   "source": [
    "import numpy as np\n",
    "import cv2 as cv\n",
    "cap = cv.VideoCapture(0)\n",
    "# Define the codec and create VideoWriter object\n",
    "fourcc = cv.VideoWriter_fourcc(*'XVID')\n",
    "out = cv.VideoWriter('C:/Users/prathmesha/Desktop/output/myvideo.avi', fourcc, 20.0, (640, 480))\n",
    "    while cap.isOpened():\n",
    "        ret, frame = cap.read()\n",
    "    if not ret:\n",
    "        print(\"Can't receive frame (stream end?). Exiting ...\")\n",
    "break\n",
    "out.write(frame)\n",
    "cv.imshow('frame', frame)\n",
    "if cv.waitKey(1) == ord('q'):\n",
    "    break\n",
    "# Release everything if job is finished\n",
    "cap.release()\n",
    "out.release()\n",
    "cv.destroyAllWindows()"
   ]
  },
  {
   "cell_type": "code",
   "execution_count": null,
   "id": "c086ba98",
   "metadata": {},
   "outputs": [],
   "source": [
    "import os\n",
    "import cv2\n",
    "import numpy as np\n",
    "img = cv2.imread(\"‪D:/IMG processing lab/Rubikscube1408010979.jpg\")\n",
    "print(img.shape())\n",
    "vd=cv2.VideoWriter(\"C:/Users/prathmesha/Desktop/output/video2.mp4\",cv2.VideoWriter_fourcc(*'MJPG'), 10, size)\n",
    "img1 = cv2.imread(\"D:/IMG processing lab/pngtree-cool-lightning-background-promotion-main-map-image_155563.jpg\")\n",
    "print(img1.shape())\n",
    "img2 = cv2.imread(\"D:/IMG processing lab/6163542.jpg\")\n",
    "print(img2.shape())\n",
    "vd.write(img)\n",
    "vd.write(img1)\n",
    "vd.write(img2)\n",
    "vd.write(img1)\n",
    "vd.write(img)\n",
    "cv2.destroyAllWindows()\n",
    "vd.release()\n"
   ]
  },
  {
   "cell_type": "code",
   "execution_count": 2,
   "id": "c87ae620",
   "metadata": {},
   "outputs": [
    {
     "ename": "error",
     "evalue": "OpenCV(4.5.3) C:\\Users\\runneradmin\\AppData\\Local\\Temp\\pip-req-build-q3d_8t8e\\opencv\\modules\\imgcodecs\\src\\loadsave.cpp:803: error: (-215:Assertion failed) !_img.empty() in function 'cv::imwrite'\n",
     "output_type": "error",
     "traceback": [
      "\u001b[1;31m---------------------------------------------------------------------------\u001b[0m",
      "\u001b[1;31merror\u001b[0m                                     Traceback (most recent call last)",
      "\u001b[1;32m<ipython-input-2-e2c86e623a58>\u001b[0m in \u001b[0;36m<module>\u001b[1;34m\u001b[0m\n\u001b[0;32m      9\u001b[0m     \u001b[0mcam\u001b[0m\u001b[1;33m.\u001b[0m\u001b[0mset\u001b[0m\u001b[1;33m(\u001b[0m\u001b[0mcv2\u001b[0m\u001b[1;33m.\u001b[0m\u001b[0mCAP_PROP_POS_MSEC\u001b[0m\u001b[1;33m,\u001b[0m\u001b[0mc\u001b[0m\u001b[1;33m)\u001b[0m\u001b[1;33m\u001b[0m\u001b[1;33m\u001b[0m\u001b[0m\n\u001b[0;32m     10\u001b[0m     \u001b[0mret\u001b[0m\u001b[1;33m,\u001b[0m\u001b[0mframe\u001b[0m\u001b[1;33m=\u001b[0m \u001b[0mcam\u001b[0m\u001b[1;33m.\u001b[0m\u001b[0mread\u001b[0m\u001b[1;33m(\u001b[0m\u001b[1;33m)\u001b[0m\u001b[1;33m\u001b[0m\u001b[1;33m\u001b[0m\u001b[0m\n\u001b[1;32m---> 11\u001b[1;33m     \u001b[0mcv2\u001b[0m\u001b[1;33m.\u001b[0m\u001b[0mimwrite\u001b[0m\u001b[1;33m(\u001b[0m\u001b[1;34m\"C:/Users/prathmesha/Desktop/output/c\"\u001b[0m\u001b[1;33m+\u001b[0m\u001b[0mstr\u001b[0m\u001b[1;33m(\u001b[0m\u001b[0mx\u001b[0m\u001b[1;33m)\u001b[0m\u001b[1;33m+\u001b[0m\u001b[1;34m\".jpg\"\u001b[0m\u001b[1;33m,\u001b[0m\u001b[0mframe\u001b[0m\u001b[1;33m)\u001b[0m\u001b[1;33m\u001b[0m\u001b[1;33m\u001b[0m\u001b[0m\n\u001b[0m\u001b[0;32m     12\u001b[0m \u001b[0mcv2\u001b[0m\u001b[1;33m.\u001b[0m\u001b[0mdestroyAllWindows\u001b[0m\u001b[1;33m(\u001b[0m\u001b[1;33m)\u001b[0m\u001b[1;33m\u001b[0m\u001b[1;33m\u001b[0m\u001b[0m\n",
      "\u001b[1;31merror\u001b[0m: OpenCV(4.5.3) C:\\Users\\runneradmin\\AppData\\Local\\Temp\\pip-req-build-q3d_8t8e\\opencv\\modules\\imgcodecs\\src\\loadsave.cpp:803: error: (-215:Assertion failed) !_img.empty() in function 'cv::imwrite'\n"
     ]
    }
   ],
   "source": [
    "import os\n",
    "import cv2\n",
    "c=0\n",
    "cam=cv2.VideoCapture(\"D:/IMG processing lab/Example.mp4\")\n",
    "x=0\n",
    "while x<5:\n",
    "    x+=1\n",
    "    c+=5000\n",
    "    cam.set(cv2.CAP_PROP_POS_MSEC,c)\n",
    "    ret,frame= cam.read()\n",
    "    cv2.imwrite(\"C:/Users/prathmesha/Desktop/output/c\"+str(x)+\".jpg\",frame)\n",
    "cv2.destroyAllWindows()"
   ]
  },
  {
   "cell_type": "code",
   "execution_count": null,
   "id": "efa2b4fc",
   "metadata": {},
   "outputs": [],
   "source": []
  }
 ],
 "metadata": {
  "kernelspec": {
   "display_name": "Python 3",
   "language": "python",
   "name": "python3"
  },
  "language_info": {
   "codemirror_mode": {
    "name": "ipython",
    "version": 3
   },
   "file_extension": ".py",
   "mimetype": "text/x-python",
   "name": "python",
   "nbconvert_exporter": "python",
   "pygments_lexer": "ipython3",
   "version": "3.8.8"
  }
 },
 "nbformat": 4,
 "nbformat_minor": 5
}
