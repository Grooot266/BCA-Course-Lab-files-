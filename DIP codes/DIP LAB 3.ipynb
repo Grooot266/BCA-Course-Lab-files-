{
 "cells": [
  {
   "cell_type": "code",
   "execution_count": null,
   "id": "08481482",
   "metadata": {},
   "outputs": [],
   "source": [
    "#26-8-2021 DIP Lab 3"
   ]
  },
  {
   "cell_type": "code",
   "execution_count": 2,
   "id": "97f3c45f",
   "metadata": {},
   "outputs": [
    {
     "data": {
      "text/plain": [
       "-1"
      ]
     },
     "execution_count": 2,
     "metadata": {},
     "output_type": "execute_result"
    }
   ],
   "source": [
    "import cv2\n",
    "import numpy as np\n",
    "img=cv2.imread('D:/IMG processing lab/resizeimg.jpg',0)\n",
    "\n",
    "l=256\n",
    "s=(l-1)-img\n",
    "con = np.concatenate((img, s), axis=1)\n",
    "  \n",
    "cv2.imshow('Output:-', con)\n",
    "cv2.waitKey(0)\n"
   ]
  },
  {
   "cell_type": "code",
   "execution_count": 3,
   "id": "28ea034c",
   "metadata": {},
   "outputs": [
    {
     "name": "stderr",
     "output_type": "stream",
     "text": [
      "<ipython-input-3-ed3f5f64e345>:7: RuntimeWarning: divide by zero encountered in log\n",
      "  log_img = c * (np.log(img + 1))\n"
     ]
    },
    {
     "data": {
      "text/plain": [
       "-1"
      ]
     },
     "execution_count": 3,
     "metadata": {},
     "output_type": "execute_result"
    }
   ],
   "source": [
    "import cv2\n",
    "import numpy as np\n",
    "#import matplotlib.pyplot as plt\n",
    "\n",
    "img=cv2.imread('D:/IMG processing lab/resizeimg.jpg',0)\n",
    "c = 255 / np.log(1 + np.max(img))\n",
    "log_img = c * (np.log(img + 1))\n",
    "log_img = np.array(log_img, dtype = np.uint8)\n",
    "#plt.imshow(img)\n",
    "#plt.show()\n",
    "#plt.imshow(log_img)\n",
    "#plt.show()\n",
    "cv2.imshow('orignal', img)\n",
    "cv2.imshow('log trans image', log_img)\n",
    "cv2.waitKey(0)\n",
    "\n"
   ]
  },
  {
   "cell_type": "code",
   "execution_count": null,
   "id": "bde66465",
   "metadata": {},
   "outputs": [],
   "source": []
  },
  {
   "cell_type": "code",
   "execution_count": 11,
   "id": "e537a9ae",
   "metadata": {},
   "outputs": [],
   "source": []
  },
  {
   "cell_type": "code",
   "execution_count": 6,
   "id": "e10d880b",
   "metadata": {},
   "outputs": [
    {
     "data": {
      "text/plain": [
       "-1"
      ]
     },
     "execution_count": 6,
     "metadata": {},
     "output_type": "execute_result"
    }
   ],
   "source": [
    "\n",
    "import numpy as np\n",
    "import cv2\n",
    "# Load the image\n",
    "img = cv2.imread('D:/IMG processing lab/resizeimg.jpg')\n",
    "gamma_ten = np.array(255*(img/255)**10,dtype='uint8') \n",
    "gamma_eigth = np.array(255*(img/255)**8,dtype='uint8')\n",
    "gamma_six = np.array(255*(img/255)**6,dtype='uint8')\n",
    "cv2.imshow('orignal image',img)\n",
    "cv2.imshow('gamma value 10',gamma_ten)\n",
    "cv2.imshow('gamma value 8',gamma_eigth)\n",
    "cv2.imshow('gamma value 6',gamma_six)\n",
    "cv2.waitKey(0)\n",
    "\n"
   ]
  },
  {
   "cell_type": "code",
   "execution_count": 1,
   "id": "90cd5341",
   "metadata": {},
   "outputs": [
    {
     "ename": "SyntaxError",
     "evalue": "(unicode error) 'unicodeescape' codec can't decode bytes in position 21-22: truncated \\uXXXX escape (<ipython-input-1-82aa29415cff>, line 2)",
     "output_type": "error",
     "traceback": [
      "\u001b[1;36m  File \u001b[1;32m\"<ipython-input-1-82aa29415cff>\"\u001b[1;36m, line \u001b[1;32m2\u001b[0m\n\u001b[1;33m    img = cv2.imread('D:\\IMG processing lab\\unnamed.png')\u001b[0m\n\u001b[1;37m                     ^\u001b[0m\n\u001b[1;31mSyntaxError\u001b[0m\u001b[1;31m:\u001b[0m (unicode error) 'unicodeescape' codec can't decode bytes in position 21-22: truncated \\uXXXX escape\n"
     ]
    }
   ],
   "source": [
    "import cv2 as cv\n",
    "img = cv.imread('D:\\IMG processing lab\\unnamed.png')\n",
    "cv.imshow('trial',img)\n",
    "cv.waitKey(0)"
   ]
  },
  {
   "cell_type": "code",
   "execution_count": null,
   "id": "22bcbaa7",
   "metadata": {},
   "outputs": [],
   "source": []
  }
 ],
 "metadata": {
  "kernelspec": {
   "display_name": "Python 3",
   "language": "python",
   "name": "python3"
  },
  "language_info": {
   "codemirror_mode": {
    "name": "ipython",
    "version": 3
   },
   "file_extension": ".py",
   "mimetype": "text/x-python",
   "name": "python",
   "nbconvert_exporter": "python",
   "pygments_lexer": "ipython3",
   "version": "3.8.8"
  }
 },
 "nbformat": 4,
 "nbformat_minor": 5
}
