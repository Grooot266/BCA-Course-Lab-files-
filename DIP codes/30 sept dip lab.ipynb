{
 "cells": [
  {
   "cell_type": "code",
   "execution_count": null,
   "id": "d806ad94",
   "metadata": {},
   "outputs": [],
   "source": [
    "#Zooming 1\n",
    "import numpy as np\n",
    "import cv2 as cv\n",
    "img = cv.imread('D:/IMG processing lab/Original-Lena-image_Q320.jpg')\n",
    "cv.imshow('og img',img)\n",
    "img.shape\n",
    "height, width, channel = img.shape\n",
    "res = cv.resize(img,(4*width, 2*height), interpolation = cv.INTER_CUBIC)\n",
    "cv.namedWindow('res image', cv.WINDOW_NORMAL)\n",
    "cv.imshow('res image', res)\n",
    "cv.waitKey(0) \n"
   ]
  },
  {
   "cell_type": "code",
   "execution_count": 1,
   "id": "c64377f6",
   "metadata": {},
   "outputs": [
    {
     "data": {
      "text/plain": [
       "-1"
      ]
     },
     "execution_count": 1,
     "metadata": {},
     "output_type": "execute_result"
    }
   ],
   "source": [
    "#Zooming 2\n",
    "import numpy as np\n",
    "import cv2 as cv\n",
    "img = cv.imread(\"D:/IMG processing lab/Original-Lena-image_Q320.jpg\")\n",
    "cv.imshow('og img',img)\n",
    "img.shape\n",
    "height, width, channel = img.shape\n",
    "res = cv.resize(img,(2*width, 2*height), interpolation = cv.INTER_LINEAR)\n",
    "cv.namedWindow('res image', cv.WINDOW_NORMAL)\n",
    "cv.imshow('res image', res)\n",
    "cv.waitKey(0) "
   ]
  },
  {
   "cell_type": "code",
   "execution_count": 2,
   "id": "7ff213cb",
   "metadata": {},
   "outputs": [
    {
     "data": {
      "text/plain": [
       "-1"
      ]
     },
     "execution_count": 2,
     "metadata": {},
     "output_type": "execute_result"
    }
   ],
   "source": [
    "# Zooming 3\n",
    "import numpy as np\n",
    "import cv2 as cv\n",
    "img = cv.imread(\"D:/IMG processing lab/Original-Lena-image_Q320.jpg\")\n",
    "cv.imshow('og img',img)\n",
    "img.shape\n",
    "height, width, channel = img.shape\n",
    "res = cv.resize(img,(2*width, 2*height), interpolation = cv.INTER_AREA)\n",
    "cv.namedWindow('res image', cv.WINDOW_NORMAL)\n",
    "cv.imshow('res image', res)\n",
    "cv.waitKey(0) "
   ]
  },
  {
   "cell_type": "code",
   "execution_count": 7,
   "id": "99ed940e",
   "metadata": {},
   "outputs": [],
   "source": [
    "#Translation \n",
    "import numpy as np\n",
    "import cv2 as cv\n",
    "img = cv.imread('D:/IMG processing lab/Original-Lena-image_Q320.jpg')\n",
    "cv.imshow('og img',img)\n",
    "rows,cols, channel = img.shape\n",
    "M = np.float32([[1,0,100],[0,1,50]])\n",
    "dst = cv.warpAffine(img,M,(cols,rows))\n",
    "cv.imshow('res img',dst)\n",
    "cv.waitKey(0)\n",
    "cv.destroyAllWindows()\n"
   ]
  },
  {
   "cell_type": "code",
   "execution_count": 8,
   "id": "c28f34af",
   "metadata": {},
   "outputs": [],
   "source": [
    "#Rotation\n",
    "import numpy as np\n",
    "import cv2 as cv\n",
    "img = cv.imread('D:/IMG processing lab/Original-Lena-image_Q320.jpg',0)\n",
    "cv.imshow('img',img)\n",
    "rows,cols = img.shape\n",
    "# cols-1 and rows-1 are the coordinate limits.\n",
    "M = cv.getRotationMatrix2D(((cols-1)/2.0,(rows-1)/2.0),135,1)\n",
    "dst = cv.warpAffine(img,M,(cols,rows))\n",
    "cv.imshow('result img',dst)\n",
    "cv.waitKey(0)\n",
    "cv.destroyAllWindows()\n"
   ]
  },
  {
   "cell_type": "code",
   "execution_count": null,
   "id": "7d0b8e2a",
   "metadata": {},
   "outputs": [],
   "source": []
  }
 ],
 "metadata": {
  "kernelspec": {
   "display_name": "Python 3",
   "language": "python",
   "name": "python3"
  },
  "language_info": {
   "codemirror_mode": {
    "name": "ipython",
    "version": 3
   },
   "file_extension": ".py",
   "mimetype": "text/x-python",
   "name": "python",
   "nbconvert_exporter": "python",
   "pygments_lexer": "ipython3",
   "version": "3.8.8"
  }
 },
 "nbformat": 4,
 "nbformat_minor": 5
}
