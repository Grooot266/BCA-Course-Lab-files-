{
 "cells": [
  {
   "cell_type": "code",
   "execution_count": 6,
   "id": "b8e5f178",
   "metadata": {},
   "outputs": [
    {
     "name": "stdout",
     "output_type": "stream",
     "text": [
      "7\n"
     ]
    }
   ],
   "source": [
    "#Q1 Perform Hough Circle Trasformation Operation on any image having circles.\n",
    "import os\n",
    "import cv2\n",
    "import numpy as np\n",
    "c=0\n",
    "img = cv2.imread('D:\\\\IMG processing lab\\\\Circle image.jpg',0)\n",
    "cv2.imshow(\"inp:-\",img)\n",
    "img1 = cv2.blur(img, (3, 3))\n",
    "detected_circles = cv2.HoughCircles(img1,\n",
    "cv2.HOUGH_GRADIENT, 1, 20, param1 = 50,\n",
    "param2 = 30, minRadius = 1, maxRadius = 40)\n",
    "if detected_circles is not None:\n",
    "    detected_circles = np.uint16(np.around(detected_circles))\n",
    "\n",
    "    for pt in detected_circles[0, :]:\n",
    "        a, b, r = pt[0], pt[1], pt[2]\n",
    "        cv2.circle(img1, (a, b), r, (0, 255, 0), 2)\n",
    "        cv2.circle(img1, (a, b), 1, (0, 0, 255), 3)\n",
    "        c=c+1\n",
    "    cv2.imshow(\"Circle detection:-\", img1)\n",
    "    cv2.waitKey(0)\n",
    "    print(c)\n"
   ]
  },
  {
   "cell_type": "code",
   "execution_count": 7,
   "id": "e92a9123",
   "metadata": {},
   "outputs": [
    {
     "name": "stdout",
     "output_type": "stream",
     "text": [
      "(1, 153, 239, 167)\n",
      "Number of white pixels: 189\n"
     ]
    },
    {
     "data": {
      "text/plain": [
       "-1"
      ]
     },
     "execution_count": 7,
     "metadata": {},
     "output_type": "execute_result"
    }
   ],
   "source": [
    "#Q2:-Convert the given color image into grayscale and print number of white pixels, in the lower half of the image.\n",
    "import cv2\n",
    "import numpy as np\n",
    "#reading color image\n",
    "img=cv2.imread('D:\\\\IMG processing lab\\\\nature img.jpg')\n",
    "cv2.imshow('Color image:-',img)\n",
    "#converting to gray scale image\n",
    "img2=cv2.imread('D:\\\\IMG processing lab\\\\nature img.jpg',0)\n",
    "cv2.imshow('gray scale image:-',img2)\n",
    "#applying ROI for lower half image\n",
    "roi = cv2.selectROI(img2)\n",
    "print(roi)\n",
    "crop = img2[int(roi[1]):int(roi[1]+roi[3]),\n",
    "        int(roi[0]):int(roi[0]+roi[2])]\n",
    "cv2.imshow('lower half of img:-',crop)\n",
    "#finding the white pixel of lower image\n",
    "low_hlf_img = np.sum(crop == 255)\n",
    "print('Number of white pixels:',low_hlf_img)\n",
    "cv2.waitKey(0)\n",
    "\n",
    "\n",
    "\n"
   ]
  },
  {
   "cell_type": "code",
   "execution_count": null,
   "id": "277c73b9",
   "metadata": {},
   "outputs": [],
   "source": []
  }
 ],
 "metadata": {
  "kernelspec": {
   "display_name": "Python 3",
   "language": "python",
   "name": "python3"
  },
  "language_info": {
   "codemirror_mode": {
    "name": "ipython",
    "version": 3
   },
   "file_extension": ".py",
   "mimetype": "text/x-python",
   "name": "python",
   "nbconvert_exporter": "python",
   "pygments_lexer": "ipython3",
   "version": "3.8.8"
  }
 },
 "nbformat": 4,
 "nbformat_minor": 5
}
