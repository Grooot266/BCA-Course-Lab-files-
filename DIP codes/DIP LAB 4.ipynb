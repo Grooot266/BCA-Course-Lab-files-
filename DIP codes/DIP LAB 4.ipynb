{
 "cells": [
  {
   "cell_type": "code",
   "execution_count": null,
   "id": "322d8d18",
   "metadata": {},
   "outputs": [],
   "source": [
    "#2-9-21 DIP lab 4"
   ]
  },
  {
   "cell_type": "code",
   "execution_count": 1,
   "id": "c30b9656",
   "metadata": {},
   "outputs": [
    {
     "data": {
      "image/png": "[encoded data removed]",
      "text/plain": [
       "<Figure size 432x288 with 1 Axes>"
      ]
     },
     "metadata": {
      "needs_background": "light"
     },
     "output_type": "display_data"
    },
    {
     "data": {
      "text/plain": [
       "-1"
      ]
     },
     "execution_count": 1,
     "metadata": {},
     "output_type": "execute_result"
    }
   ],
   "source": [
    "import cv2 as cv\n",
    "\n",
    "import numpy as np\n",
    "\n",
    "from matplotlib import pyplot as plt\n",
    "\n",
    "img = cv.imread('D:/IMG processing lab/Circle.png')\n",
    "\n",
    "hist = cv.calcHist([img],[0],None,[256],[0,256])\n",
    "\n",
    "plt.hist(img.ravel(),256,[0,256]); \n",
    "\n",
    "plt.show()\n",
    "\n",
    "cv.imshow('gg:-',img)\n",
    "\n",
    "cv.waitKey(0)"
   ]
  },
  {
   "cell_type": "code",
   "execution_count": 4,
   "id": "8a8b9f5a",
   "metadata": {},
   "outputs": [
    {
     "data": {
      "text/plain": [
       "-1"
      ]
     },
     "execution_count": 4,
     "metadata": {},
     "output_type": "execute_result"
    }
   ],
   "source": [
    "#cv.THRESH_BINARY\n",
    "import cv2 as cv\n",
    "img = cv.imread(\"D:\\\\IMG processing lab\\\\Circle.png\",0)\n",
    "\n",
    "cv.imshow('Og img:-',img)\n",
    "\n",
    "ret_val, res_thr_binary = cv.threshold(img, 100, 255, cv.THRESH_BINARY)\n",
    "\n",
    "cv.imwrite('D:\\\\IMG processing lab\\\\Circle1.png',res_thr_binary)\n",
    "\n",
    "cv.imshow('Output:-',res_thr_binary)\n",
    "\n",
    "cv.waitKey(0)"
   ]
  },
  {
   "cell_type": "code",
   "execution_count": 6,
   "id": "34a9e5b0",
   "metadata": {},
   "outputs": [
    {
     "data": {
      "text/plain": [
       "-1"
      ]
     },
     "execution_count": 6,
     "metadata": {},
     "output_type": "execute_result"
    }
   ],
   "source": [
    "#cv.THRESH_BINARY_INV\n",
    "import cv2 as cv\n",
    "\n",
    "img = cv.imread('D:\\\\IMG processing lab\\\\Circle.png',0)\n",
    "\n",
    "cv.imshow('Og img:-',img)\n",
    "\n",
    "ret_val, res_thr_binary_inv = cv.threshold(img, 100, 255, cv.THRESH_BINARY_INV)\n",
    "\n",
    "cv.imwrite('D:\\\\IMG processing lab\\\\Circle2.png',res_thr_binary_inv)\n",
    "\n",
    "cv.imshow('Output:-',res_thr_binary_inv)\n",
    "\n",
    "cv.waitKey(0)"
   ]
  },
  {
   "cell_type": "code",
   "execution_count": 3,
   "id": "b3d685a7",
   "metadata": {},
   "outputs": [
    {
     "data": {
      "text/plain": [
       "-1"
      ]
     },
     "execution_count": 3,
     "metadata": {},
     "output_type": "execute_result"
    }
   ],
   "source": [
    "#cv.THRESH_TRUNC\n",
    "import cv2 as cv\n",
    "\n",
    "img = cv.imread('D:\\\\IMG processing lab\\\\Circle.png',0)\n",
    "\n",
    "cv.imshow('Og img:-',img)\n",
    "\n",
    "ret_val, res_thr_binary_trunc = cv.threshold(img, 250, 255, cv.THRESH_TRUNC)\n",
    "\n",
    "cv.imwrite('D:\\\\IMG processing lab\\\\Circle3.png',res_thr_binary_trunc)\n",
    "\n",
    "cv.imshow('Output:-',res_thr_binary_trunc)\n",
    "\n",
    "cv.waitKey(0)"
   ]
  },
  {
   "cell_type": "code",
   "execution_count": 4,
   "id": "0a3f4370",
   "metadata": {},
   "outputs": [
    {
     "data": {
      "text/plain": [
       "-1"
      ]
     },
     "execution_count": 4,
     "metadata": {},
     "output_type": "execute_result"
    }
   ],
   "source": [
    "#cv.THRESH_TOZERO\n",
    "import cv2 as cv\n",
    "\n",
    "img = cv.imread('D:\\\\IMG processing lab\\\\Circle.png',0)\n",
    "\n",
    "cv.imshow('Og img:-',img)\n",
    "\n",
    "ret_val, res_thr_binary_TOZERO = cv.threshold(img, 100, 255, cv.THRESH_TOZERO)\n",
    "\n",
    "cv.imwrite('D:\\\\IMG processing lab\\\\Circle4.png',res_thr_binary_TOZERO)\n",
    "\n",
    "cv.imshow('Output:-',res_thr_binary_TOZERO)\n",
    "\n",
    "cv.waitKey(0)"
   ]
  },
  {
   "cell_type": "code",
   "execution_count": 5,
   "id": "db56316f",
   "metadata": {},
   "outputs": [
    {
     "data": {
      "text/plain": [
       "-1"
      ]
     },
     "execution_count": 5,
     "metadata": {},
     "output_type": "execute_result"
    }
   ],
   "source": [
    "#cv.THRESH_TOZERO_INV\n",
    "import cv2 as cv\n",
    "\n",
    "img = cv.imread('D:\\\\IMG processing lab\\\\Circle.png',0)\n",
    "\n",
    "cv.imshow('Og img:-',img)\n",
    "\n",
    "ret_val, res_thr_binary_TOZERO_INV = cv.threshold(img, 100, 255, cv.THRESH_TOZERO_INV)\n",
    "\n",
    "cv.imwrite('D:\\\\IMG processing lab\\\\Circle5.png',res_thr_binary_TOZERO_INV)\n",
    "\n",
    "cv.imshow('Output:-',res_thr_binary_TOZERO_INV)\n",
    "\n",
    "cv.waitKey(0)"
   ]
  },
  {
   "cell_type": "code",
   "execution_count": 12,
   "id": "957659c6",
   "metadata": {},
   "outputs": [
    {
     "data": {
      "text/plain": [
       "-1"
      ]
     },
     "execution_count": 12,
     "metadata": {},
     "output_type": "execute_result"
    }
   ],
   "source": [
    "#circle separation\n",
    "import cv2 as cv\n",
    "\n",
    "img = cv.imread('D:/IMG processing lab/trial.png',0)\n",
    "\n",
    "cv.imshow('og img:-',img)\n",
    "\n",
    "ret_val, res_thr_binary = cv.threshold(img, 100, 255, cv.THRESH_BINARY_INV)\n",
    "\n",
    "cv.imwrite('D:/IMG processing lab/circle rectangle 1.png',res_thr_binary)\n",
    "\n",
    "cv.imshow('Output:-',res_thr_binary)\n",
    "\n",
    "cv.waitKey(0)\n",
    "\n"
   ]
  },
  {
   "cell_type": "code",
   "execution_count": 25,
   "id": "f10c3d36",
   "metadata": {},
   "outputs": [
    {
     "data": {
      "text/plain": [
       "-1"
      ]
     },
     "execution_count": 25,
     "metadata": {},
     "output_type": "execute_result"
    }
   ],
   "source": [
    "#Circle and Rectangle separation\n",
    "import cv2 as cv\n",
    "\n",
    "img = cv.imread('D:/IMG processing lab/trial.png',0)\n",
    "\n",
    "cv.imshow('og img:-',img)\n",
    "\n",
    "ret_val, res_thr_binary = cv.threshold(img, 150, 255, cv.THRESH_BINARY_INV)\n",
    "\n",
    "cv.imwrite('D:/IMG processing lab/circle rectangle 2.png',res_thr_binary)\n",
    "\n",
    "cv.imshow('Output:-',res_thr_binary)\n",
    "\n",
    "cv.waitKey(0)"
   ]
  },
  {
   "cell_type": "code",
   "execution_count": 30,
   "id": "910977be",
   "metadata": {},
   "outputs": [
    {
     "data": {
      "text/plain": [
       "-1"
      ]
     },
     "execution_count": 30,
     "metadata": {},
     "output_type": "execute_result"
    }
   ],
   "source": [
    "#Separating rectangle \n",
    "import cv2 as cv\n",
    "\n",
    "img = cv.imread('D:/IMG processing lab/trial.png',0)\n",
    "\n",
    "cv.imshow(\"OG img:-\",img)\n",
    "\n",
    "img1=img\n",
    "\n",
    "for x in range(img1.shape[0]) :\n",
    "\n",
    "    for y in range(img1.shape[1]):\n",
    "\n",
    "        if (img1[x][y]<155 and img1[x][y]>115):\n",
    "\n",
    "            img1[x][y]= 255\n",
    "\n",
    "        else:\n",
    "\n",
    "            img1[x][y]= 0\n",
    "\n",
    "    \n",
    "\n",
    "cv.imwrite('D:/IMG processing lab/rectangle1.png',img1)\n",
    "\n",
    "cv.imshow(\"Output:-\",img1)\n",
    "\n",
    "cv.waitKey(0)\n",
    "\n",
    "\n"
   ]
  },
  {
   "cell_type": "code",
   "execution_count": 31,
   "id": "fb9083cc",
   "metadata": {},
   "outputs": [
    {
     "data": {
      "text/plain": [
       "-1"
      ]
     },
     "execution_count": 31,
     "metadata": {},
     "output_type": "execute_result"
    }
   ],
   "source": [
    "#separating recantangle from background\n",
    "import cv2 as cv\n",
    "\n",
    "img = cv.imread('D:/IMG processing lab/trial.png',0)\n",
    "\n",
    "cv.imshow(\"OG img:-\",img)\n",
    "\n",
    "img1=img\n",
    "\n",
    "for x in range(img1.shape[0]) :\n",
    "\n",
    "    for y in range(img1.shape[1]):\n",
    "\n",
    "        if (img1[x][y]<155 and img1[x][y]>115):\n",
    "\n",
    "            img1[x][y]= 0\n",
    "\n",
    "        else:\n",
    "\n",
    "            img1[x][y]= 255\n",
    "\n",
    "    \n",
    "\n",
    "cv.imwrite('D:/IMG processing lab/rectangle1.png',img1)\n",
    "\n",
    "cv.imshow(\"Output:-\",img1)\n",
    "\n",
    "cv.waitKey(0)\n",
    "\n",
    "\n"
   ]
  },
  {
   "cell_type": "code",
   "execution_count": 10,
   "id": "9c0fc3bf",
   "metadata": {},
   "outputs": [
    {
     "data": {
      "text/plain": [
       "True"
      ]
     },
     "execution_count": 10,
     "metadata": {},
     "output_type": "execute_result"
    }
   ],
   "source": [
    "img = cv.imread('C:/Users/prathmesha/Desktop/Picture1.png',0)\n",
    "\n",
    "ret_val, res_thr_binary = cv.threshold(img, 85, 255, cv.THRESH_BINARY_INV)\n",
    "\n",
    "cv.imwrite('C:/Users/prathmesha/Desktop/Picture1.png',res_thr_binary)\n",
    "\n"
   ]
  },
  {
   "cell_type": "code",
   "execution_count": 16,
   "id": "f28a2e15",
   "metadata": {},
   "outputs": [
    {
     "data": {
      "text/plain": [
       "-1"
      ]
     },
     "execution_count": 16,
     "metadata": {},
     "output_type": "execute_result"
    }
   ],
   "source": [
    "img = cv.imread('C:/Users/prathmesha/Desktop/Picture3.png',0)\n",
    "\n",
    "\n",
    "\n",
    "for x in range(img.shape[0]) :\n",
    "\n",
    "    for y in range(img.shape[1]):\n",
    "\n",
    "        if (img[x][y]<95 and img[x][y]>90):\n",
    "\n",
    "            img[x][y]= 255\n",
    "\n",
    "        else:\n",
    "\n",
    "            img[x][y]= 0\n",
    "\n",
    "    \n",
    "\n",
    "cv.imshow('trial',img)\n",
    "\n",
    "\n",
    "cv.waitKey(0)"
   ]
  },
  {
   "cell_type": "code",
   "execution_count": 2,
   "id": "d252c97b",
   "metadata": {},
   "outputs": [
    {
     "data": {
      "text/plain": [
       "-1"
      ]
     },
     "execution_count": 2,
     "metadata": {},
     "output_type": "execute_result"
    }
   ],
   "source": [
    "img = cv.imread('D:/IMG processing lab/1983030._UY360_SS360_.jpg')\n",
    "\n",
    "cv.imshow('og:-',img)\n",
    "\n",
    "ret_val, res_thr_binary = cv.threshold(img, 95, 255, cv.THRESH_BINARY_INV)\n",
    "\n",
    "cv.imshow('trial:-',res_thr_binary)\n",
    "\n",
    "cv.waitKey(0)"
   ]
  },
  {
   "cell_type": "code",
   "execution_count": 2,
   "id": "57f93220",
   "metadata": {},
   "outputs": [
    {
     "data": {
      "image/png": "[encoded data removed]",
      "text/plain": [
       "<Figure size 432x288 with 1 Axes>"
      ]
     },
     "metadata": {
      "needs_background": "light"
     },
     "output_type": "display_data"
    },
    {
     "data": {
      "text/plain": [
       "-1"
      ]
     },
     "execution_count": 2,
     "metadata": {},
     "output_type": "execute_result"
    }
   ],
   "source": [
    "import cv2 as cv\n",
    "\n",
    "import numpy as np\n",
    "\n",
    "from matplotlib import pyplot as plt\n",
    "\n",
    "img = cv.imread('D:/IMG processing lab/1983030._UY360_SS360_.jpg')\n",
    "\n",
    "hist = cv.calcHist([img],[0],None,[256],[0,256])\n",
    "\n",
    "plt.hist(img.ravel(),256,[0,256]); \n",
    "\n",
    "plt.show()\n",
    "\n",
    "cv.imshow('gg:-',img)\n",
    "\n",
    "cv.waitKey(0)"
   ]
  },
  {
   "cell_type": "code",
   "execution_count": 1,
   "id": "e7c2c54e",
   "metadata": {},
   "outputs": [
    {
     "ename": "NameError",
     "evalue": "name 'cv' is not defined",
     "output_type": "error",
     "traceback": [
      "\u001b[1;31m---------------------------------------------------------------------------\u001b[0m",
      "\u001b[1;31mNameError\u001b[0m                                 Traceback (most recent call last)",
      "\u001b[1;32m<ipython-input-1-10d7656aa258>\u001b[0m in \u001b[0;36m<module>\u001b[1;34m\u001b[0m\n\u001b[1;32m----> 1\u001b[1;33m \u001b[0mimg\u001b[0m \u001b[1;33m=\u001b[0m \u001b[0mcv\u001b[0m\u001b[1;33m.\u001b[0m\u001b[0mimread\u001b[0m\u001b[1;33m(\u001b[0m\u001b[1;34m'D:/IMG processing lab/bd937738ad6223a03f8aedcf4920a7_big_gallery.jpeg'\u001b[0m\u001b[1;33m,\u001b[0m\u001b[1;36m0\u001b[0m\u001b[1;33m)\u001b[0m\u001b[1;33m\u001b[0m\u001b[1;33m\u001b[0m\u001b[0m\n\u001b[0m\u001b[0;32m      2\u001b[0m \u001b[1;33m\u001b[0m\u001b[0m\n\u001b[0;32m      3\u001b[0m \u001b[0mcv\u001b[0m\u001b[1;33m.\u001b[0m\u001b[0mimshow\u001b[0m\u001b[1;33m(\u001b[0m\u001b[1;34m'og:-'\u001b[0m\u001b[1;33m,\u001b[0m\u001b[0mimg\u001b[0m\u001b[1;33m)\u001b[0m\u001b[1;33m\u001b[0m\u001b[1;33m\u001b[0m\u001b[0m\n\u001b[0;32m      4\u001b[0m \u001b[1;33m\u001b[0m\u001b[0m\n\u001b[0;32m      5\u001b[0m \u001b[0mret_val\u001b[0m\u001b[1;33m,\u001b[0m \u001b[0mres_thr_binary\u001b[0m \u001b[1;33m=\u001b[0m \u001b[0mcv\u001b[0m\u001b[1;33m.\u001b[0m\u001b[0mthreshold\u001b[0m\u001b[1;33m(\u001b[0m\u001b[0mimg\u001b[0m\u001b[1;33m,\u001b[0m \u001b[1;36m95\u001b[0m\u001b[1;33m,\u001b[0m \u001b[1;36m255\u001b[0m\u001b[1;33m,\u001b[0m \u001b[0mcv\u001b[0m\u001b[1;33m.\u001b[0m\u001b[0mTHRESH_BINARY_INV\u001b[0m\u001b[1;33m)\u001b[0m\u001b[1;33m\u001b[0m\u001b[1;33m\u001b[0m\u001b[0m\n",
      "\u001b[1;31mNameError\u001b[0m: name 'cv' is not defined"
     ]
    }
   ],
   "source": [
    "img = cv.imread('D:/IMG processing lab/bd937738ad6223a03f8aedcf4920a7_big_gallery.jpeg',0)\n",
    "\n",
    "cv.imshow('og:-',img)\n",
    "\n",
    "ret_val, res_thr_binary = cv.threshold(img, 95, 255, cv.THRESH_BINARY_INV)\n",
    "\n",
    "cv.imshow('trial:-',res_thr_binary)\n",
    "\n",
    "cv.waitKey(0)"
   ]
  },
  {
   "cell_type": "code",
   "execution_count": null,
   "id": "e64429ab",
   "metadata": {},
   "outputs": [],
   "source": []
  }
 ],
 "metadata": {
  "kernelspec": {
   "display_name": "Python 3",
   "language": "python",
   "name": "python3"
  },
  "language_info": {
   "codemirror_mode": {
    "name": "ipython",
    "version": 3
   },
   "file_extension": ".py",
   "mimetype": "text/x-python",
   "name": "python",
   "nbconvert_exporter": "python",
   "pygments_lexer": "ipython3",
   "version": "3.8.8"
  }
 },
 "nbformat": 4,
 "nbformat_minor": 5
}
