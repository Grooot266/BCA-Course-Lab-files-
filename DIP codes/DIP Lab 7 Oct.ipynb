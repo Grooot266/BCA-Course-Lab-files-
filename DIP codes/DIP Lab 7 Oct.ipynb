{
 "cells": [
  {
   "cell_type": "code",
   "execution_count": 2,
   "id": "ca546a78",
   "metadata": {},
   "outputs": [
    {
     "ename": "TypeError",
     "evalue": "'NoneType' object is not subscriptable",
     "output_type": "error",
     "traceback": [
      "\u001b[1;31m---------------------------------------------------------------------------\u001b[0m",
      "\u001b[1;31mTypeError\u001b[0m                                 Traceback (most recent call last)",
      "\u001b[1;32m<ipython-input-2-e39c2f62745c>\u001b[0m in \u001b[0;36m<module>\u001b[1;34m\u001b[0m\n\u001b[0;32m      6\u001b[0m \u001b[0medges\u001b[0m \u001b[1;33m=\u001b[0m \u001b[0mcv2\u001b[0m\u001b[1;33m.\u001b[0m\u001b[0mCanny\u001b[0m\u001b[1;33m(\u001b[0m\u001b[0mimg\u001b[0m\u001b[1;33m,\u001b[0m\u001b[1;36m50\u001b[0m\u001b[1;33m,\u001b[0m\u001b[1;36m150\u001b[0m\u001b[1;33m,\u001b[0m\u001b[0mapertureSize\u001b[0m \u001b[1;33m=\u001b[0m \u001b[1;36m3\u001b[0m\u001b[1;33m)\u001b[0m\u001b[1;33m\u001b[0m\u001b[1;33m\u001b[0m\u001b[0m\n\u001b[0;32m      7\u001b[0m \u001b[0mlines\u001b[0m \u001b[1;33m=\u001b[0m \u001b[0mcv2\u001b[0m\u001b[1;33m.\u001b[0m\u001b[0mHoughLines\u001b[0m\u001b[1;33m(\u001b[0m\u001b[0medges\u001b[0m\u001b[1;33m,\u001b[0m\u001b[1;36m1\u001b[0m\u001b[1;33m,\u001b[0m\u001b[0mnp\u001b[0m\u001b[1;33m.\u001b[0m\u001b[0mpi\u001b[0m\u001b[1;33m/\u001b[0m\u001b[1;36m180\u001b[0m\u001b[1;33m,\u001b[0m\u001b[1;36m200\u001b[0m\u001b[1;33m)\u001b[0m\u001b[1;33m\u001b[0m\u001b[1;33m\u001b[0m\u001b[0m\n\u001b[1;32m----> 8\u001b[1;33m \u001b[1;32mfor\u001b[0m \u001b[0mrho\u001b[0m\u001b[1;33m,\u001b[0m\u001b[0mtheta\u001b[0m \u001b[1;32min\u001b[0m \u001b[0mlines\u001b[0m\u001b[1;33m[\u001b[0m\u001b[1;36m0\u001b[0m\u001b[1;33m]\u001b[0m\u001b[1;33m:\u001b[0m\u001b[1;33m\u001b[0m\u001b[1;33m\u001b[0m\u001b[0m\n\u001b[0m\u001b[0;32m      9\u001b[0m     \u001b[0ma\u001b[0m \u001b[1;33m=\u001b[0m \u001b[0mnp\u001b[0m\u001b[1;33m.\u001b[0m\u001b[0mcos\u001b[0m\u001b[1;33m(\u001b[0m\u001b[0mtheta\u001b[0m\u001b[1;33m)\u001b[0m\u001b[1;33m\u001b[0m\u001b[1;33m\u001b[0m\u001b[0m\n\u001b[0;32m     10\u001b[0m     \u001b[0mb\u001b[0m \u001b[1;33m=\u001b[0m \u001b[0mnp\u001b[0m\u001b[1;33m.\u001b[0m\u001b[0msin\u001b[0m\u001b[1;33m(\u001b[0m\u001b[0mtheta\u001b[0m\u001b[1;33m)\u001b[0m\u001b[1;33m\u001b[0m\u001b[1;33m\u001b[0m\u001b[0m\n",
      "\u001b[1;31mTypeError\u001b[0m: 'NoneType' object is not subscriptable"
     ]
    }
   ],
   "source": [
    "import os\n",
    "import cv2\n",
    "import numpy as np\n",
    "img = cv2.imread(\"D:/IMG processing lab/Rubikscube1408010979.jpg\",0)\n",
    "# cv2.imshow('input img:-',img)\n",
    "edges = cv2.Canny(img,50,150,apertureSize = 3)\n",
    "lines = cv2.HoughLines(edges,1,np.pi/180,200)\n",
    "for rho,theta in lines[0]:\n",
    "    a = np.cos(theta)\n",
    "    b = np.sin(theta)\n",
    "    x0 = a*rho\n",
    "    y0 = b*rho\n",
    "    x1 = int(x0 + 1000*(-b))\n",
    "    y1 = int(y0 + 1000*(a))\n",
    "    x2 = int(x0 - 1000*(-b))\n",
    "    y2 = int(y0 - 1000*(a))\n",
    "\n",
    "    cv2.line(img,(x1,y1),(x2,y2),(0,0,255),2)\n",
    "cv2.imwrite('houghlines3.jpg',img)\n",
    "cv2.imshow('Output:-',img)\n"
   ]
  },
  {
   "cell_type": "code",
   "execution_count": null,
   "id": "95cd9638",
   "metadata": {},
   "outputs": [],
   "source": [
    "# import cv2\n",
    "# import numpy as np\n",
    "# from matplotlib import pyplot as plt\n",
    "# img = cv2.imread(\"D:/IMG processing lab/Rubikscube1408010979.jpg\")\n",
    "# hist = cv2.calcHist([img],[0],None,[256],[0,256])\n",
    "\n",
    "# plt.hist(img.ravel(),256,[0,256]); \n",
    "\n",
    "# plt.show()"
   ]
  },
  {
   "cell_type": "code",
   "execution_count": 1,
   "id": "77bbd6d9",
   "metadata": {},
   "outputs": [
    {
     "data": {
      "text/plain": [
       "-1"
      ]
     },
     "execution_count": 1,
     "metadata": {},
     "output_type": "execute_result"
    }
   ],
   "source": [
    "import cv2\n",
    "import os\n",
    "import numpy as np\n",
    "img = cv2.imread('D:/IMG processing lab/image2.png')\n",
    "cv2.imshow('Input:-',img)\n",
    "\n",
    "edges = cv2.Canny(img, 50, 200)\n",
    "\n",
    "lines = cv2.HoughLinesP(edges, 1, np.pi/180, 100, minLineLength=10, maxLineGap=250)\n",
    "\n",
    "for line in lines:\n",
    "\n",
    "    x1, y1, x2, y2 = line[0]\n",
    "\n",
    "    cv2.line(img, (x1, y1), (x2, y2), (255, 0, 0), 3)\n",
    "\n",
    "cv2.imshow(\"Result Image\", img)\n",
    "cv2.waitKey(0)\n"
   ]
  },
  {
   "cell_type": "code",
   "execution_count": null,
   "id": "a15361b0",
   "metadata": {},
   "outputs": [],
   "source": [
    "# import cv2\n",
    "# import os\n",
    "# import numpy as np\n",
    "# img = cv2.imread('D:/IMG processing lab/lane-line-white-road-thumbnail.jpg',0)\n",
    "# cv2.imshow('Input:-',img)\n",
    "\n",
    "# edges = cv2.Canny(img, 50, 200)\n",
    "\n",
    "# lines = cv2.HoughLines(edges, 1, np.pi/180, 100, minLineLength=5, maxLineGap=250)\n",
    "\n",
    "# for line in lines:\n",
    "\n",
    "#     x1, y1, x2, y2 = line[0]\n",
    "\n",
    "#     cv2.line(img, (x1, y1), (x2, y2), (255, 0, 0), 3)\n",
    "\n",
    "# cv2.imshow(\"Result Image\", img)\n",
    "# cv2.waitKey(0)\n"
   ]
  },
  {
   "cell_type": "code",
   "execution_count": 7,
   "id": "bcb5648f",
   "metadata": {},
   "outputs": [],
   "source": [
    "import os\n",
    "import cv2\n",
    "c=0\n",
    "cam=cv2.VideoCapture(\"C:/Users/prathmesha/Downloads/Meeting in _General_-20211006_142405-Meeting Recording.mp4\")\n",
    "x=0\n",
    "while x<5:\n",
    "    x+=1\n",
    "    c+=5000\n",
    "    cam.set(cv2.CAP_PROP_POS_MSEC,c)\n",
    "    ret,frame= cam.read()\n",
    "    cv2.imwrite(\"D:/IMG processing lab/s\"+str(x)+\".jpg\",frame)\n",
    "cv2.destroyAllWindows()\n"
   ]
  },
  {
   "cell_type": "code",
   "execution_count": 8,
   "id": "47715e1d",
   "metadata": {},
   "outputs": [
    {
     "name": "stdout",
     "output_type": "stream",
     "text": [
      "(320, 320, 3)\n",
      "(225, 225, 3)\n",
      "(1024, 1024, 3)\n"
     ]
    }
   ],
   "source": [
    "import numpy as np\n",
    "import cv2\n",
    "size=100\n",
    "img = cv2.imread(\"D:/IMG processing lab/Original-Lena-image_Q320.jpg\")\n",
    "print(img.shape)\n",
    "vd=cv2.VideoWriter(\"C:/Users/prathmesha/Desktop/output/newvideo.mp4\",cv2.VideoWriter_fourcc(*'DIVX'), 15, (512, 512))\n",
    "img1 = cv2.imread(\"D:/IMG processing lab/images.jpg\")\n",
    "print(img1.shape)\n",
    "img2 = cv2.imread(\"D:/IMG processing lab/BGMI-Live-Stream-Thumbnail.png\")\n",
    "print(img2.shape)\n",
    "vd.write(img2)\n",
    "vd.write(img)\n",
    "vd.write(img1)\n",
    "vd.write(img1)\n",
    "vd.write(img2)\n",
    "cv2.destroyAllWindows()\n",
    "vd.release()"
   ]
  },
  {
   "cell_type": "code",
   "execution_count": null,
   "id": "bbc68ecb",
   "metadata": {},
   "outputs": [],
   "source": []
  }
 ],
 "metadata": {
  "kernelspec": {
   "display_name": "Python 3",
   "language": "python",
   "name": "python3"
  },
  "language_info": {
   "codemirror_mode": {
    "name": "ipython",
    "version": 3
   },
   "file_extension": ".py",
   "mimetype": "text/x-python",
   "name": "python",
   "nbconvert_exporter": "python",
   "pygments_lexer": "ipython3",
   "version": "3.8.8"
  }
 },
 "nbformat": 4,
 "nbformat_minor": 5
}
